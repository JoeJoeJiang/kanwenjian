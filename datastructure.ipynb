{
 "cells": [
  {
   "cell_type": "markdown",
   "metadata": {},
   "source": [
    "# 第一部分 Python原生数据结构（不用引入包），包括Tuple、List、Set、Dictionary"
   ]
  },
  {
   "cell_type": "markdown",
   "metadata": {},
   "source": [
    "## 1.元组(Tuple)"
   ]
  },
  {
   "cell_type": "markdown",
   "metadata": {},
   "source": [
    "## 1.1 创建Tuple"
   ]
  },
  {
   "cell_type": "markdown",
   "metadata": {},
   "source": [
    ">创建元组对象。元祖一旦创建就无法对其元素进行增加、删除和修改。可以使用()创建元组，元组可以为空且元素类型可以不同。但若元组中仅包含一个数字，则应该添加逗号以区别运算符号。也将列表对象转换为元组对象。使用tuple()函数可以根据原对象生产一个新的元组对象。"
   ]
  },
  {
   "cell_type": "code",
   "execution_count": 1,
   "metadata": {},
   "outputs": [
    {
     "name": "stdout",
     "output_type": "stream",
     "text": [
      "tup1的元素是 ('Google', 'Runoob', 1997, 2000) \n",
      "显示该数据结构类型 <class 'tuple'> \n",
      "tup2的元素是 (1,) \n",
      "tup3的元素是 ('a', 'b', 'c', 'd') \n",
      "tup3的元素是 ()\n",
      "转换前的seq对象的数据类型是 <class 'list'> seq的元素是 ['a', 'b', 'c', 'd', 'e'] \n",
      "转换后的tup对象的数据类型是 <class 'tuple'> tup的元素是 ('a', 'b', 'c', 'd', 'e')\n"
     ]
    }
   ],
   "source": [
    "tup1 = ('Google', 'Runoob', 1997, 2000)\n",
    "tup2 = (1,)\n",
    "tup3 = \"a\", \"b\", \"c\", \"d\"\n",
    "tup4=()\n",
    "print('tup1的元素是',tup1,\n",
    "      '\\n显示该数据结构类型',type(tup1),\n",
    "      '\\ntup2的元素是',tup2,\n",
    "      '\\ntup3的元素是',tup3,\n",
    "      '\\ntup3的元素是',tup4\n",
    "     )\n",
    "seq = ['a','b','c','d','e']\n",
    "tup = tuple(seq)\n",
    "print('转换前的seq对象的数据类型是',type(seq),'seq的元素是',seq,\n",
    "      '\\n转换后的tup对象的数据类型是',type(tup),'tup的元素是',tup,\n",
    "     )"
   ]
  },
  {
   "cell_type": "markdown",
   "metadata": {},
   "source": [
    "## 1.2 Tuple查询操作"
   ]
  },
  {
   "cell_type": "markdown",
   "metadata": {},
   "source": [
    ">访问元组。元组可以使用下标索引来访问元组中的值"
   ]
  },
  {
   "cell_type": "code",
   "execution_count": 2,
   "metadata": {},
   "outputs": [
    {
     "name": "stdout",
     "output_type": "stream",
     "text": [
      "tup1[0]:  Google\n",
      "tup2[1:5]:  ()\n"
     ]
    }
   ],
   "source": [
    "print (\"tup1[0]: \", tup1[0])\n",
    "print (\"tup2[1:5]: \", tup2[1:5])"
   ]
  },
  {
   "cell_type": "markdown",
   "metadata": {},
   "source": [
    "## 1.3 Tuple整体删除操作"
   ]
  },
  {
   "cell_type": "markdown",
   "metadata": {},
   "source": [
    ">删除元组。使用del方法可以者删除指定的元祖对象，相对的我们无法删除指定下标的元祖元素。"
   ]
  },
  {
   "cell_type": "code",
   "execution_count": 3,
   "metadata": {},
   "outputs": [],
   "source": [
    "#这样删除报错\n",
    "#del tup3[0]\n",
    "#print (\"删除后的元组 tup : \")\n",
    "#print (tup3)\n",
    "del tup3\n",
    "#print (\"删除后的元组 tup : \")\n",
    "#print (tup3)    #删除后为空，因此现在没有tup3，所以会报错说没有定义"
   ]
  },
  {
   "cell_type": "markdown",
   "metadata": {},
   "source": [
    "## 1.4 Tuple连接和复制"
   ]
  },
  {
   "cell_type": "markdown",
   "metadata": {},
   "source": [
    ">元组连接和复制。虽然元组中的元素值是不允许修改的，但我们可以对元组进行连接组合，此举会返回一个新的元祖对象。此外，我们也可以使用*进行复制操作。"
   ]
  },
  {
   "cell_type": "code",
   "execution_count": 4,
   "metadata": {},
   "outputs": [
    {
     "name": "stdout",
     "output_type": "stream",
     "text": [
      "使用+进行操作连接 ('Google', 'Runoob', 1997, 2000, 1)\n",
      "使用*进行复制操作 (1, 1, 1)\n"
     ]
    }
   ],
   "source": [
    "# 以下修改元组元素操作是非法的。\n",
    "# tup1[0] = 100\n",
    " \n",
    "# 创建一个新的元组\n",
    "tup4 = tup1 + tup2;\n",
    "print('使用+进行操作连接',tup4)\n",
    "tup5 = tup2*3\n",
    "print('使用*进行复制操作',tup5)"
   ]
  },
  {
   "cell_type": "markdown",
   "metadata": {},
   "source": [
    "## 1.5 Tuple特殊操作"
   ]
  },
  {
   "cell_type": "markdown",
   "metadata": {},
   "source": [
    ">元组内置函数。len()函数可以返回元组元素的个数。max()函数可以返回元组中的最大元素。min()函数可以返回元组中的最小元素。"
   ]
  },
  {
   "cell_type": "code",
   "execution_count": 5,
   "metadata": {},
   "outputs": [
    {
     "name": "stdout",
     "output_type": "stream",
     "text": [
      "\n",
      "计算元组的元素个数 4 \n",
      "求元组中的最大元素 1 \n",
      "求元组中的最小元素 1\n"
     ]
    }
   ],
   "source": [
    "print('\\n计算元组的元素个数',len(tup1),\n",
    "      '\\n求元组中的最大元素',max(tup2),\n",
    "      '\\n求元组中的最小元素',min(tup2))"
   ]
  },
  {
   "cell_type": "markdown",
   "metadata": {},
   "source": [
    "## 1.6 Tuple转换为其他数据结构示例"
   ]
  },
  {
   "cell_type": "markdown",
   "metadata": {},
   "source": [
    ">元组数据类型转换。元组轻松地转换成字符串和列表，不过单个元组无法直接转换成字典。"
   ]
  },
  {
   "cell_type": "code",
   "execution_count": 6,
   "metadata": {},
   "outputs": [
    {
     "name": "stdout",
     "output_type": "stream",
     "text": [
      "\n",
      "元组转列表：\n",
      " ['Google', 'Runoob', 1997, 2000] \n",
      "元组转字符串:\n",
      " ('Google', 'Runoob', 1997, 2000)\n"
     ]
    }
   ],
   "source": [
    "print(\"\\n元组转列表：\\n\",list(tup1),\n",
    "      \"\\n元组转字符串:\\n\",tup1.__str__())"
   ]
  },
  {
   "cell_type": "markdown",
   "metadata": {},
   "source": [
    "## 2.列表(List)"
   ]
  },
  {
   "cell_type": "markdown",
   "metadata": {},
   "source": [
    "## 2.1 创建List"
   ]
  },
  {
   "cell_type": "markdown",
   "metadata": {},
   "source": [
    ">一维列表的创建。使用[]可以创建一个列表对象，列表可是一种有序的集合，可以随时添加和删除其中的元素。"
   ]
  },
  {
   "cell_type": "code",
   "execution_count": 7,
   "metadata": {},
   "outputs": [
    {
     "name": "stdout",
     "output_type": "stream",
     "text": [
      "students的元素是 [1, 2, 3, 4, 5, 6, 7, 8, 9, 10, 11, 12, 13, 14, 15] \n",
      "显示该数据结构类型 <class 'list'> \n",
      "empty的元素是 []\n"
     ]
    }
   ],
   "source": [
    "students = [1,2,3,4,5,6,7,8,9,10,11,12,13,14,15]\n",
    "empty=[]\n",
    "print('students的元素是',students,\n",
    "      '\\n显示该数据结构类型',type(students),\n",
    "      '\\nempty的元素是',empty,\n",
    "     )"
   ]
  },
  {
   "cell_type": "markdown",
   "metadata": {},
   "source": [
    ">多维列表的创建。尽管list默认是一维的，在实际应用中我们可以根据需要创建多维列表。多维列表的创建可以使用[]的嵌套。"
   ]
  },
  {
   "cell_type": "code",
   "execution_count": 8,
   "metadata": {},
   "outputs": [
    {
     "data": {
      "text/plain": [
       "[[1, 2], ['a', 'b']]"
      ]
     },
     "execution_count": 8,
     "metadata": {},
     "output_type": "execute_result"
    }
   ],
   "source": [
    "lists=[[1,2],['a','b']]\n",
    "lists"
   ]
  },
  {
   "cell_type": "markdown",
   "metadata": {},
   "source": [
    "## 2.2 List查询操作"
   ]
  },
  {
   "cell_type": "markdown",
   "metadata": {},
   "source": [
    ">列表查询。list[a:b]返回一个含有列表中第a个至第b-1个元素的列表对象。list[::a]返回一个从列表第一个元素起始，步长为a的列表对象。list[i]则会索引下标为i的元素，若i为负，则从列表尾部从后至前访问第i个元素。"
   ]
  },
  {
   "cell_type": "code",
   "execution_count": 9,
   "metadata": {},
   "outputs": [
    {
     "name": "stdout",
     "output_type": "stream",
     "text": [
      "\n",
      "列表切分 [2, 3, 4, 5, 6, 7, 8] \n",
      "固定步长访问 [1, 3, 5, 7, 9, 11, 13, 15] \n",
      "从后往前访问 13\n"
     ]
    }
   ],
   "source": [
    "print('\\n列表切分',students[1:8],\n",
    "      '\\n固定步长访问',students[::2],\n",
    "      '\\n从后往前访问',students[-3])    "
   ]
  },
  {
   "cell_type": "markdown",
   "metadata": {},
   "source": [
    "## 2.3 List增加操作"
   ]
  },
  {
   "cell_type": "markdown",
   "metadata": {},
   "source": [
    ">列表的增加。append()可以在列表末尾增加新的项目，可以增加一个元素，也可以增加一个list对象从成为多维列表。"
   ]
  },
  {
   "cell_type": "code",
   "execution_count": 10,
   "metadata": {},
   "outputs": [
    {
     "name": "stdout",
     "output_type": "stream",
     "text": [
      "增加元素后的列表 [1, 2, 3, 4, 5, 6, 7, 8, 9, 10, 11, 12, 13, 14, 15, 11]\n",
      "增加列表后的列表 [[1, 2], ['a', 'b'], ['Hello', 5]]\n"
     ]
    }
   ],
   "source": [
    "students.append(11) \n",
    "print('增加元素后的列表',students)\n",
    "lists.append(['Hello',5])\n",
    "print('增加列表后的列表',lists)"
   ]
  },
  {
   "cell_type": "markdown",
   "metadata": {},
   "source": [
    "## 2.4 List删除操作"
   ]
  },
  {
   "cell_type": "markdown",
   "metadata": {},
   "source": [
    ">列表的删除。remove()函数可以删除指定值的元素，list.remove(i)会删除list对象中值为i为元素，若不存在则报错。pop()函数可以删除制定下标的元组，默认为列表对象的最后一个元素，list.pop(i)将删除下标为i的元素。"
   ]
  },
  {
   "cell_type": "code",
   "execution_count": 11,
   "metadata": {},
   "outputs": [
    {
     "name": "stdout",
     "output_type": "stream",
     "text": [
      "删除指定下标元素后的列表对象 [1, 2, 3, 4, 6, 7, 8, 9, 10, 11, 12, 13, 14, 15, 11] 删除最后一个元素的列表对象 [[1, 2], ['a', 'b']]\n"
     ]
    }
   ],
   "source": [
    "students.remove(5)\n",
    "lists.pop()\n",
    "print('删除指定下标元素后的列表对象',students,\n",
    "      '删除最后一个元素的列表对象',lists)"
   ]
  },
  {
   "cell_type": "markdown",
   "metadata": {},
   "source": [
    "## 2.5 List修改操作"
   ]
  },
  {
   "cell_type": "markdown",
   "metadata": {},
   "source": [
    ">列表修改。list[i]=x可以直接替换列表指定下标的元素。"
   ]
  },
  {
   "cell_type": "code",
   "execution_count": 12,
   "metadata": {},
   "outputs": [
    {
     "name": "stdout",
     "output_type": "stream",
     "text": [
      "\n",
      "修改后的列表为 [100, 2, 3, 4, 6, 7, 8, 9, 10, 11, 12, 13, 14, 15, 11]\n"
     ]
    }
   ],
   "source": [
    "students[0] = 100\n",
    "print('\\n修改后的列表为',students)"
   ]
  },
  {
   "cell_type": "markdown",
   "metadata": {},
   "source": [
    "## 2.6 List特殊操作"
   ]
  },
  {
   "cell_type": "markdown",
   "metadata": {},
   "source": [
    ">列表函数。reverse()函数可以使列表倒置。len()函数可以返回列表的元素个数。sort()函数可以使列表元素升序排列。"
   ]
  },
  {
   "cell_type": "code",
   "execution_count": 13,
   "metadata": {},
   "outputs": [
    {
     "name": "stdout",
     "output_type": "stream",
     "text": [
      "\n",
      "倒置后的列表是 [11, 15, 14, 13, 12, 11, 10, 9, 8, 7, 6, 4, 3, 2, 100] \n",
      "len统计列表元素的个数 15\n",
      "sort列表升序排列 [2, 3, 4, 6, 7, 8, 9, 10, 11, 11, 12, 13, 14, 15, 100]\n"
     ]
    }
   ],
   "source": [
    "students.reverse()\n",
    "print('\\n倒置后的列表是',students,\n",
    "      '\\nlen统计列表元素的个数',len(students))\n",
    "students.sort()\n",
    "print('sort列表升序排列',students)"
   ]
  },
  {
   "cell_type": "markdown",
   "metadata": {},
   "source": [
    "## 2.7 List转换为其他数据结构示例"
   ]
  },
  {
   "cell_type": "markdown",
   "metadata": {},
   "source": [
    ">列表数据类型转换。列表作为最常用的数据类型之一，可以便利地转换为各种数据类型。不过同样的是，单个列表无法直接转换成字典。"
   ]
  },
  {
   "cell_type": "code",
   "execution_count": 14,
   "metadata": {},
   "outputs": [
    {
     "name": "stdout",
     "output_type": "stream",
     "text": [
      "\n",
      "列表转元组：\n",
      " (2, 3, 4, 6, 7, 8, 9, 10, 11, 11, 12, 13, 14, 15, 100) \n",
      "列表转字符串:\n",
      " [2, 3, 4, 6, 7, 8, 9, 10, 11, 11, 12, 13, 14, 15, 100]\n"
     ]
    }
   ],
   "source": [
    "print(\"\\n列表转元组：\\n\",tuple(students),\n",
    "      \"\\n列表转字符串:\\n\",str(students))"
   ]
  },
  {
   "cell_type": "markdown",
   "metadata": {},
   "source": [
    "## 3.集合(Set)"
   ]
  },
  {
   "cell_type": "markdown",
   "metadata": {},
   "source": [
    "## 3.1 创建Set"
   ]
  },
  {
   "cell_type": "markdown",
   "metadata": {},
   "source": [
    ">集合的创建。集合是数学概念上的集合，不会出现重复值,所有的元素按照一定的顺序排列,若元素为数字则按照数字大小排列。使用set()函数创建集合会自动地拆分多个字母组成的字符串。"
   ]
  },
  {
   "cell_type": "code",
   "execution_count": 15,
   "metadata": {},
   "outputs": [
    {
     "name": "stdout",
     "output_type": "stream",
     "text": [
      "集合1 {'b', '2', 'f', 'e', '3', '1', 'g', 'c', 'a'} \n",
      "显示该数据结构类型 <class 'set'> \n",
      "集合2 {'点', '大', '小', '多'} \n",
      "集合3 {'World', 'Hello'}\n"
     ]
    }
   ],
   "source": [
    "mySet = set('abcgefa12312123')\n",
    "mySet1 = {'大','小','点','多'}\n",
    "mySet2 = set(('Hello','World'))\n",
    "print('集合1',mySet,\n",
    "      '\\n显示该数据结构类型',type(mySet),\n",
    "      '\\n集合2',mySet1,\n",
    "      '\\n集合3',mySet2)"
   ]
  },
  {
   "cell_type": "markdown",
   "metadata": {},
   "source": [
    "## 3.2 Set查询操作"
   ]
  },
  {
   "cell_type": "markdown",
   "metadata": {},
   "source": [
    ">集合的查询。使用in可以判断a是否在集合中，若存在为真，反之为假。"
   ]
  },
  {
   "cell_type": "code",
   "execution_count": 16,
   "metadata": {},
   "outputs": [
    {
     "data": {
      "text/plain": [
       "True"
      ]
     },
     "execution_count": 16,
     "metadata": {},
     "output_type": "execute_result"
    }
   ],
   "source": [
    "mySet = {'a','b','c','d','e','f'}   \n",
    "'a' in mySet"
   ]
  },
  {
   "cell_type": "markdown",
   "metadata": {},
   "source": [
    "## 3.3 Set增加操作"
   ]
  },
  {
   "cell_type": "markdown",
   "metadata": {},
   "source": [
    ">集合元素的增加。add()函数可以在集合对象中加入新元素，但若元素已经存在，则无效果。使用update表示添加（并非修改）是一个一个添加，并且按照顺序添加进集合。"
   ]
  },
  {
   "cell_type": "code",
   "execution_count": 17,
   "metadata": {},
   "outputs": [
    {
     "name": "stdout",
     "output_type": "stream",
     "text": [
      "add()后的集合 {'b', 'f', 'e', 'ghk', 'c', 'a', 'd'}\n",
      "update()后的集合 {'t', 'u', 'b', 'f', 'e', 'ghk', 'y', 'c', 'a', 'd'}\n"
     ]
    }
   ],
   "source": [
    "mySet.add('ghk')\n",
    "mySet.add('a')\n",
    "print('add()后的集合',mySet)\n",
    "mySet.update('tyu')\n",
    "print('update()后的集合',mySet)"
   ]
  },
  {
   "cell_type": "markdown",
   "metadata": {},
   "source": [
    "## 3.4 Set删除操作"
   ]
  },
  {
   "cell_type": "markdown",
   "metadata": {},
   "source": [
    ">集合的删除。remove()函数可以将集合中的元素删除。discard()函数可以删除集合中指定元素，且元素若不存在不报错。pop()可以随机删除集合中的一个元素（在交互模式下删除最后一个元素）。clear()函数可以清空集合。"
   ]
  },
  {
   "cell_type": "code",
   "execution_count": 18,
   "metadata": {},
   "outputs": [
    {
     "name": "stdout",
     "output_type": "stream",
     "text": [
      "删除指定元素后的集合 {'t', 'u', 'b', 'f', 'e', 'ghk', 'y', 'c', 'd'}\n",
      "删除不存在 {'t', 'u', 'b', 'f', 'e', 'ghk', 'y', 'c', 'd'}\n",
      "随机删除元素后的集合 {'u', 'b', 'f', 'e', 'ghk', 'y', 'c', 'd'}\n",
      "删除所有元素后的集合 set()\n"
     ]
    }
   ],
   "source": [
    "mySet.remove('a')\n",
    "print('删除指定元素后的集合',mySet)\n",
    "mySet.discard('x') \n",
    "print('删除不存在',mySet)\n",
    "mySet.pop() \n",
    "print('随机删除元素后的集合',mySet)\n",
    "mySet.clear()\n",
    "print('删除所有元素后的集合',mySet)"
   ]
  },
  {
   "cell_type": "markdown",
   "metadata": {},
   "source": [
    "## 3.5 Set特殊操作"
   ]
  },
  {
   "cell_type": "markdown",
   "metadata": {},
   "source": [
    ">集合的方法。len()查询集合的长度。copy()可以复制集合中的元素并生成一个新的集合。"
   ]
  },
  {
   "cell_type": "code",
   "execution_count": 19,
   "metadata": {},
   "outputs": [
    {
     "name": "stdout",
     "output_type": "stream",
     "text": [
      "\n",
      "len()返回集合的长度 0 \n",
      "copy()生成的集合 set()\n"
     ]
    }
   ],
   "source": [
    "copy_mySet=mySet.copy()\n",
    "print('\\nlen()返回集合的长度',len(mySet),\n",
    "      '\\ncopy()生成的集合',copy_mySet)"
   ]
  },
  {
   "cell_type": "markdown",
   "metadata": {},
   "source": [
    ">集合的运算。首先建立两个新的集合用于运算。在集合运算中，'-'表示求差集，'&'表示求交集，'|'表示求并集，'^'表示两个集合的并集减去交集。"
   ]
  },
  {
   "cell_type": "code",
   "execution_count": 20,
   "metadata": {},
   "outputs": [
    {
     "name": "stdout",
     "output_type": "stream",
     "text": [
      "\n",
      "求差集 {'e', 'p', 'l'} \n",
      "求并集 {'e', 'p', 'l', 'b', 'n', 'a'} \n",
      "求交集 {'a'} \n",
      "求各自独特的 {'b', 'e', 'p', 'l', 'n'}\n"
     ]
    }
   ],
   "source": [
    "a = set('apple')\n",
    "b = set('banana')\n",
    "print('\\n求差集',a - b,\n",
    "      '\\n求并集',a | b,\n",
    "      '\\n求交集',a & b,\n",
    "      '\\n求各自独特的',a ^ b) "
   ]
  },
  {
   "cell_type": "markdown",
   "metadata": {},
   "source": [
    "## 4.字典(Dictionary)"
   ]
  },
  {
   "cell_type": "markdown",
   "metadata": {},
   "source": [
    "## 4.1 创建Dict"
   ]
  },
  {
   "cell_type": "markdown",
   "metadata": {},
   "source": [
    ">字典的创建。生成一个字典和一个包含三个字典对象的字典列表。（列表中嵌套字典，students实际上是一个列表，students中的元素是字典）"
   ]
  },
  {
   "cell_type": "code",
   "execution_count": 21,
   "metadata": {},
   "outputs": [
    {
     "name": "stdout",
     "output_type": "stream",
     "text": [
      "显示该数据结构类型 <class 'dict'>\n"
     ]
    },
    {
     "data": {
      "text/plain": [
       "{'ID': 'L100', 'Name': 'COCO'}"
      ]
     },
     "execution_count": 21,
     "metadata": {},
     "output_type": "execute_result"
    }
   ],
   "source": [
    "dict1={\"ID\":\"L100\",\"Name\":\"COCO\"}\n",
    "students = [{'name':'n1','id':'001'},{'name':'n2','id':'002'},{'name':'n3','id':'003'}]\n",
    "print(\"显示该数据结构类型\",type(dict1))\n",
    "dict1"
   ]
  },
  {
   "cell_type": "markdown",
   "metadata": {},
   "source": [
    ">使用zip方法创建字典。zip()方法可以返回元组组成的列表，这可以帮助我们快速构建字典。"
   ]
  },
  {
   "cell_type": "code",
   "execution_count": 22,
   "metadata": {},
   "outputs": [
    {
     "data": {
      "text/plain": [
       "{'a': '1', 'b': '2', 'c': '3'}"
      ]
     },
     "execution_count": 22,
     "metadata": {},
     "output_type": "execute_result"
    }
   ],
   "source": [
    "demo_dict = dict(zip('abc','123'))\n",
    "demo_dict"
   ]
  },
  {
   "cell_type": "markdown",
   "metadata": {},
   "source": [
    "## 4.2 Dict查询操作"
   ]
  },
  {
   "cell_type": "markdown",
   "metadata": {},
   "source": [
    ">字典的查询。查找学生第一个学生的学号（显示出第一个字典元素id键的值）。此外还可以使用get(key，default=None)方法获取指定键的值。"
   ]
  },
  {
   "cell_type": "code",
   "execution_count": 23,
   "metadata": {},
   "outputs": [
    {
     "name": "stdout",
     "output_type": "stream",
     "text": [
      "常规查询\n",
      " 001\n",
      "根据键查询\n",
      " 001\n"
     ]
    }
   ],
   "source": [
    "print(\"常规查询\\n\",students[0]['id'])\n",
    "print(\"根据键查询\\n\",students[0].get('id'))"
   ]
  },
  {
   "cell_type": "markdown",
   "metadata": {},
   "source": [
    "## 4.3 Dict增加操作"
   ]
  },
  {
   "cell_type": "markdown",
   "metadata": {},
   "source": [
    ">字典的增改。添加一名学生的信息（增加行，其实是增加列表中一个元素），之后再添加一个学生信息科目（增加列，其实是增加字典中一个键值对）。"
   ]
  },
  {
   "cell_type": "code",
   "execution_count": 24,
   "metadata": {},
   "outputs": [
    {
     "name": "stdout",
     "output_type": "stream",
     "text": [
      "添加一个字典对象后\n",
      " [{'name': 'n1', 'id': '001'}, {'name': 'n2', 'id': '002'}, {'name': 'n3', 'id': '003'}, {'name': 'n4', 'id': '004'}]\n",
      "增加键值对后的字典\n",
      " [{'name': 'n1', 'id': '001', 'school': 'school1'}, {'name': 'n2', 'id': '002', 'school': 'school2'}, {'name': 'n3', 'id': '003', 'school': 'school3'}, {'name': 'n4', 'id': '004'}]\n"
     ]
    }
   ],
   "source": [
    "students.append({'name':'n4','id':'004'})\n",
    "print('添加一个字典对象后\\n',students)\n",
    "students[0]['school'] = 'school1'\n",
    "students[1]['school'] = 'school2'\n",
    "students[2]['school'] = 'school3'\n",
    "print('增加键值对后的字典\\n',students)"
   ]
  },
  {
   "cell_type": "markdown",
   "metadata": {},
   "source": [
    "## 4.4 Dict删除操作"
   ]
  },
  {
   "cell_type": "markdown",
   "metadata": {},
   "source": [
    ">字典的删除。使用del删除一名学生的信息（删除行，其实是删除列表中一个元素）。再使用pop删除第一个学生的学号（删除某一行中的列，其实是删除字典中的一个键值对）。"
   ]
  },
  {
   "cell_type": "code",
   "execution_count": 25,
   "metadata": {},
   "outputs": [
    {
     "name": "stdout",
     "output_type": "stream",
     "text": [
      "删除列表中的一个字典对象后\n",
      " [{'name': 'n1', 'id': '001', 'school': 'school1'}, {'name': 'n2', 'id': '002', 'school': 'school2'}, {'name': 'n3', 'id': '003', 'school': 'school3'}]\n",
      "删除一个键值对后\n",
      " [{'name': 'n1', 'school': 'school1'}, {'name': 'n2', 'id': '002', 'school': 'school2'}, {'name': 'n3', 'id': '003', 'school': 'school3'}]\n"
     ]
    }
   ],
   "source": [
    "del students[3]\n",
    "print('删除列表中的一个字典对象后\\n',students)\n",
    "students[0].pop('id')\n",
    "print('删除一个键值对后\\n',students)"
   ]
  },
  {
   "cell_type": "markdown",
   "metadata": {},
   "source": [
    ">删除所有学生的学号（删除某一列，其实是删除所有字典中的一个键值对）"
   ]
  },
  {
   "cell_type": "code",
   "execution_count": 26,
   "metadata": {},
   "outputs": [
    {
     "data": {
      "text/plain": [
       "[{'name': 'n1'}, {'name': 'n2', 'id': '002'}, {'name': 'n3', 'id': '003'}]"
      ]
     },
     "execution_count": 26,
     "metadata": {},
     "output_type": "execute_result"
    }
   ],
   "source": [
    "for i in range(0,len(students)):\n",
    "    students[i].pop('school')\n",
    "students"
   ]
  },
  {
   "cell_type": "markdown",
   "metadata": {},
   "source": [
    "## 4.5 Dict修改操作"
   ]
  },
  {
   "cell_type": "markdown",
   "metadata": {},
   "source": [
    ">字典的更新。添加（更改）第一个学生的学号（在列表的第一个字典元素中增加/更改键值对）"
   ]
  },
  {
   "cell_type": "code",
   "execution_count": 27,
   "metadata": {},
   "outputs": [
    {
     "name": "stdout",
     "output_type": "stream",
     "text": [
      "\n",
      "更新后的字典\n",
      " [{'name': 'n1', 'id': '111'}, {'name': 'n2', 'id': '002'}, {'name': 'n3', 'id': '003'}]\n"
     ]
    }
   ],
   "source": [
    "students[0].update({'id':'111'})\n",
    "print('\\n更新后的字典\\n',students)"
   ]
  },
  {
   "cell_type": "markdown",
   "metadata": {},
   "source": [
    "## 4.6 Dict转换为其他数据结构示例"
   ]
  },
  {
   "cell_type": "markdown",
   "metadata": {},
   "source": [
    ">字典数据类型转换。字典的键和值可以被单独各自转换成List类型。"
   ]
  },
  {
   "cell_type": "code",
   "execution_count": 28,
   "metadata": {},
   "outputs": [
    {
     "name": "stdout",
     "output_type": "stream",
     "text": [
      "字典值转Lsit\n",
      " ['1', '2', '3']\n",
      "字典键转List\n",
      " ['a', 'b', 'c']\n"
     ]
    }
   ],
   "source": [
    "print(\"字典值转Lsit\\n\",list(demo_dict.values()))\n",
    "print(\"字典键转List\\n\",list(demo_dict.keys()))"
   ]
  },
  {
   "cell_type": "markdown",
   "metadata": {},
   "source": [
    "# 第二部分 NumPy中的数据结构，包括 Ndarray、Matrix"
   ]
  },
  {
   "cell_type": "markdown",
   "metadata": {},
   "source": [
    "## 5.数组(Ndarray)"
   ]
  },
  {
   "cell_type": "markdown",
   "metadata": {},
   "source": [
    "## 5.1 创建Ndarray"
   ]
  },
  {
   "cell_type": "markdown",
   "metadata": {},
   "source": [
    ">引入NumPy包，将其命名为np。在引入NumPy包后方可使用数组数据结构。"
   ]
  },
  {
   "cell_type": "code",
   "execution_count": 29,
   "metadata": {},
   "outputs": [],
   "source": [
    "import numpy as np"
   ]
  },
  {
   "cell_type": "markdown",
   "metadata": {},
   "source": [
    ">创建数组对象。在NumPy包中，使用array()方法可以把序列型对象转换成数组；arange()方法可以生成自定义终点的一维数组;ones()生成值全为1的数组；empty()方法会生成一个给定类型和维度且不进行数据初始化的数组；random()生成随机数组；linspace()生成指定起止数值和步长的一维数组，例如生成一个从1到10的元素个数为5的数组。"
   ]
  },
  {
   "cell_type": "code",
   "execution_count": 30,
   "metadata": {},
   "outputs": [
    {
     "name": "stdout",
     "output_type": "stream",
     "text": [
      "\n",
      "序列型数据转换得到数组\n",
      " [ 1  2  3  4  5  6  7  8  9 10 11 12] \n",
      "显示该数据结构类型 <class 'numpy.ndarray'> \n",
      "arrange()函数创建的数组\n",
      " [0 1 2 3 4] \n",
      "ones()函数创建的全1数组\n",
      " [[1. 1.]\n",
      " [1. 1.]] \n",
      "empty()函数创建的未赋值的数组\n",
      " [[2.33646845e-307 3.44899859e-307]\n",
      " [1.44635488e-307 1.33511562e-306]] \n",
      "random()函数创建的随机数组\n",
      " [[0.87148784 0.68508356]\n",
      " [0.30720144 0.50695636]\n",
      " [0.62454137 0.58123165]\n",
      " [0.53904523 0.23489727]] \n",
      "linespace()函数创建的随机数组\n",
      " [10. 15. 20. 25. 30.]\n"
     ]
    }
   ],
   "source": [
    "array001 = np.array([1,2,3,4,5,6,7,8,9,10,11,12])\n",
    "a2=np.arange(5)\n",
    "a3=np.ones((2,2))\n",
    "a4=np.empty((2,2))\n",
    "a5=np.random.rand(4,2)\n",
    "a6=np.linspace(10,30,5)\n",
    "print('\\n序列型数据转换得到数组\\n',array001,\n",
    "      '\\n显示该数据结构类型',type(array001),\n",
    "      '\\narrange()函数创建的数组\\n',a2,\n",
    "      '\\nones()函数创建的全1数组\\n',a3,\n",
    "      '\\nempty()函数创建的未赋值的数组\\n',a4,\n",
    "      '\\nrandom()函数创建的随机数组\\n',a5,\n",
    "      '\\nlinespace()函数创建的随机数组\\n',a6)"
   ]
  },
  {
   "cell_type": "markdown",
   "metadata": {},
   "source": [
    "## 5.2 Ndarray查询操作"
   ]
  },
  {
   "cell_type": "markdown",
   "metadata": {},
   "source": [
    ">数组的查询。数组可以通过array[a:b]从数组中提取子集，也可以在此基础上进行批量赋值操作。"
   ]
  },
  {
   "cell_type": "code",
   "execution_count": 31,
   "metadata": {},
   "outputs": [
    {
     "name": "stdout",
     "output_type": "stream",
     "text": [
      "\n",
      "一维数组索引\n",
      " [ 5  6  7  8  9 10 11 12] \n",
      "二维数组索引\n",
      " [[ 7  8]\n",
      " [11 12]]\n"
     ]
    }
   ],
   "source": [
    "array002= np.array([[1,2,3,4],[5,6,7,8],[9,10,11,12]])\n",
    "print('\\n一维数组索引\\n',array001[4:],\n",
    "      '\\n二维数组索引\\n',array002[1:3,2:4])"
   ]
  },
  {
   "cell_type": "markdown",
   "metadata": {},
   "source": [
    ">以下均为多维数组中的常用属性,其中,shape可以返回对象的数据结构，例如行数与列数，除了返回一个表示数组各维度的元组，也可以通过reshape改变数组的结构。"
   ]
  },
  {
   "cell_type": "code",
   "execution_count": 32,
   "metadata": {},
   "outputs": [
    {
     "name": "stdout",
     "output_type": "stream",
     "text": [
      "\n",
      "改变结构后的数组:\n",
      " [[ 1  2  3  4]\n",
      " [ 5  6  7  8]\n",
      " [ 9 10 11 12]] \n",
      "数组各个维度: (3, 4) \n",
      "数组数据类型: int32 \n",
      "数组数据个数: 12 \n",
      "数组数据类型字节数: 4 \n",
      "数组维度: 2\n"
     ]
    }
   ],
   "source": [
    "array004 = array001.reshape(3,-1)\n",
    "print( '\\n改变结构后的数组:\\n',array004,\n",
    "       '\\n数组各个维度:',array004.shape,\n",
    "       '\\n数组数据类型:',array004.dtype,\n",
    "       '\\n数组数据个数:',array004.size,\n",
    "       '\\n数组数据类型字节数:',array004.itemsize,\n",
    "       '\\n数组维度:',array004.ndim)"
   ]
  },
  {
   "cell_type": "markdown",
   "metadata": {},
   "source": [
    "## 5.3 Ndarray增加操作"
   ]
  },
  {
   "cell_type": "markdown",
   "metadata": {},
   "source": [
    ">数组的增加。append()可以增加元素或者列表类型的数据，但必须注意维度需要保持一致。"
   ]
  },
  {
   "cell_type": "code",
   "execution_count": 33,
   "metadata": {},
   "outputs": [
    {
     "name": "stdout",
     "output_type": "stream",
     "text": [
      "\n",
      "增加一列后后的数组\n",
      " [[ 1  2  3  4  1]\n",
      " [ 5  6  7  8  2]\n",
      " [ 9 10 11 12  3]]\n"
     ]
    }
   ],
   "source": [
    "array003 = np.append(array002,[[1],[2],[3]],axis=1)\n",
    "print('\\n增加一列后后的数组\\n',array003)"
   ]
  },
  {
   "cell_type": "markdown",
   "metadata": {},
   "source": [
    "## 5.4 Ndarray删除操作"
   ]
  },
  {
   "cell_type": "markdown",
   "metadata": {},
   "source": [
    ">数组的删除。使用delete(x,i,axis=)方法可以删除数组对象中行或者列,第三个参数axis决定了删除的是行还是列,需要删除的对象可以是一个数，也可以是一个元组进行批量删除。"
   ]
  },
  {
   "cell_type": "code",
   "execution_count": 34,
   "metadata": {},
   "outputs": [
    {
     "name": "stdout",
     "output_type": "stream",
     "text": [
      "删除单行后的数组:\n",
      " [[ 1  5  9]\n",
      " [ 3  7 11]\n",
      " [ 4  8 12]]\n",
      "批量删除后的数组:\n",
      " [[ 1  5  9]\n",
      " [ 3  7 11]]\n",
      "删除单列后的数组:\n",
      " [[ 1  9]\n",
      " [ 2 10]\n",
      " [ 3 11]\n",
      " [ 4 12]]\n"
     ]
    }
   ],
   "source": [
    "array003=array002.T\n",
    "print('删除单行后的数组:\\n',np.delete(array003,1,axis=0))\n",
    "array003=array002.T\n",
    "print('批量删除后的数组:\\n',np.delete(array003,(1,3),0))\n",
    "array003=array002.T\n",
    "print('删除单列后的数组:\\n',np.delete(array003,1,1))"
   ]
  },
  {
   "cell_type": "markdown",
   "metadata": {},
   "source": [
    "## 5.5 Ndarray修改操作"
   ]
  },
  {
   "cell_type": "markdown",
   "metadata": {},
   "source": [
    ">数组的修改。可以使用索引的方式进行数组数据的批量修改。"
   ]
  },
  {
   "cell_type": "code",
   "execution_count": 35,
   "metadata": {},
   "outputs": [
    {
     "name": "stdout",
     "output_type": "stream",
     "text": [
      "数组批量赋值\n",
      " [[ 1  2  3  4]\n",
      " [ 0  0  0  0]\n",
      " [ 9 10 11 12]]\n",
      "修改数值后的数组\n",
      " [[  1   0   9]\n",
      " [  2 100  10]\n",
      " [  3   0  11]\n",
      " [  4   0  12]]\n"
     ]
    }
   ],
   "source": [
    "array002[1:2]=0\n",
    "print('数组批量赋值\\n',array002)\n",
    "array003=array002.T\n",
    "array003[1][1]=100\n",
    "print('修改数值后的数组\\n',array003)"
   ]
  },
  {
   "cell_type": "markdown",
   "metadata": {},
   "source": [
    "## 5.6 Ndarray特殊操作"
   ]
  },
  {
   "cell_type": "markdown",
   "metadata": {},
   "source": [
    ">二维数组转置。array.T可以得到数组对象的转置后的结果。"
   ]
  },
  {
   "cell_type": "code",
   "execution_count": 36,
   "metadata": {},
   "outputs": [
    {
     "data": {
      "text/plain": [
       "array([[  1,   0,   9],\n",
       "       [  2, 100,  10],\n",
       "       [  3,   0,  11],\n",
       "       [  4,   0,  12]])"
      ]
     },
     "execution_count": 36,
     "metadata": {},
     "output_type": "execute_result"
    }
   ],
   "source": [
    "array002.T"
   ]
  },
  {
   "cell_type": "markdown",
   "metadata": {},
   "source": [
    ">数组的堆叠。首先新进两个数组，之后依此使用vstack进行纵向堆叠和使用hstack进行横向堆叠。"
   ]
  },
  {
   "cell_type": "code",
   "execution_count": 37,
   "metadata": {},
   "outputs": [
    {
     "name": "stdout",
     "output_type": "stream",
     "text": [
      "纵向堆叠后:\n",
      " [[1 2 3]\n",
      " [4 5 6]] \n",
      "横向堆叠后:\n",
      " [1 2 3 4 5 6]\n"
     ]
    }
   ],
   "source": [
    "arr1=np.array([1,2,3])\n",
    "arr2=np.array([4,5,6])\n",
    "print('纵向堆叠后:\\n',np.vstack((arr1,arr2)),\n",
    "      '\\n横向堆叠后:\\n',np.hstack((arr1,arr2)))"
   ]
  },
  {
   "cell_type": "markdown",
   "metadata": {},
   "source": [
    "## 5.7 Ndarray转换为其他数据结构示例"
   ]
  },
  {
   "cell_type": "code",
   "execution_count": 38,
   "metadata": {},
   "outputs": [
    {
     "name": "stdout",
     "output_type": "stream",
     "text": [
      "转换前的Ndarray是：\n",
      " [[1 2 3]\n",
      " [4 5 6]]\n",
      "Ndarray转为DataFrame的结果是：\n",
      "    0  1  2\n",
      "0  1  2  3\n",
      "1  4  5  6\n"
     ]
    }
   ],
   "source": [
    "arr3=np.array([[1,2,3],[4,5,6]])\n",
    "print(\"转换前的Ndarray是：\\n\",arr3)\n",
    "import pandas as pd\n",
    "dfFromNdarray=pd.DataFrame(arr3)\n",
    "print(\"Ndarray转为DataFrame的结果是：\\n\",dfFromNdarray)"
   ]
  },
  {
   "cell_type": "code",
   "execution_count": 39,
   "metadata": {},
   "outputs": [
    {
     "name": "stdout",
     "output_type": "stream",
     "text": [
      "DataFrame转为Ndarray的结果是：\n",
      " [[1 2 3]\n",
      " [4 5 6]]\n"
     ]
    }
   ],
   "source": [
    "arrFromDataFrame=dfFromNdarray.values\n",
    "print(\"DataFrame转为Ndarray的结果是：\\n\",arrFromDataFrame)"
   ]
  },
  {
   "cell_type": "markdown",
   "metadata": {},
   "source": [
    "## 6.矩阵(Matrix)"
   ]
  },
  {
   "cell_type": "markdown",
   "metadata": {},
   "source": [
    "## 6.1 创建Matrix"
   ]
  },
  {
   "cell_type": "markdown",
   "metadata": {},
   "source": [
    ">矩阵的创建。使用mat()方法可以把其他数据结构的对象转换为矩阵类型。"
   ]
  },
  {
   "cell_type": "code",
   "execution_count": 40,
   "metadata": {},
   "outputs": [
    {
     "name": "stdout",
     "output_type": "stream",
     "text": [
      "显示该数据结构类型 <class 'numpy.matrix'>\n"
     ]
    },
    {
     "data": {
      "text/plain": [
       "matrix([[ 1,  2,  3],\n",
       "        [ 6,  7,  8],\n",
       "        [11, 12, 17]])"
      ]
     },
     "execution_count": 40,
     "metadata": {},
     "output_type": "execute_result"
    }
   ],
   "source": [
    "array1 = [1,2,3]\n",
    "array2 = [6,7,8]\n",
    "array3 = [11,12,17]\n",
    "matrix = np.mat([array1,array2,array3])\n",
    "print('显示该数据结构类型',type(matrix))\n",
    "matrix"
   ]
  },
  {
   "cell_type": "markdown",
   "metadata": {},
   "source": [
    ">创建随机矩阵。在numpy中包含了许多创建特殊矩阵的方法。这里使用empty()方法创建一个新的数据随机的矩阵。"
   ]
  },
  {
   "cell_type": "code",
   "execution_count": 41,
   "metadata": {},
   "outputs": [
    {
     "data": {
      "text/plain": [
       "array([[0.00000000e+000, 0.00000000e+000, 0.00000000e+000],\n",
       "       [0.00000000e+000, 0.00000000e+000, 6.95644429e-321],\n",
       "       [8.90104238e-307, 1.24610383e-306, 3.17320232e-317]])"
      ]
     },
     "execution_count": 41,
     "metadata": {},
     "output_type": "execute_result"
    }
   ],
   "source": [
    "matrix1=np.empty((3,3))\n",
    "matrix1"
   ]
  },
  {
   "cell_type": "markdown",
   "metadata": {},
   "source": [
    "## 6.2 Matrix查询操作"
   ]
  },
  {
   "cell_type": "markdown",
   "metadata": {},
   "source": [
    ">矩阵查询。在矩阵中有以下常用属性用于观察矩阵。"
   ]
  },
  {
   "cell_type": "code",
   "execution_count": 42,
   "metadata": {},
   "outputs": [
    {
     "name": "stdout",
     "output_type": "stream",
     "text": [
      "矩阵每维的大小\n",
      " (3, 3)\n",
      "矩阵所有数据的个数\n",
      " 9\n",
      "矩阵每个数据的类型\n",
      " int32\n"
     ]
    }
   ],
   "source": [
    "print(\"矩阵每维的大小\\n\",matrix.shape)\n",
    "print(\"矩阵所有数据的个数\\n\",matrix.size)\n",
    "print(\"矩阵每个数据的类型\\n\",matrix.dtype) "
   ]
  },
  {
   "cell_type": "markdown",
   "metadata": {},
   "source": [
    "## 6.3 Matrix增加操作"
   ]
  },
  {
   "cell_type": "markdown",
   "metadata": {},
   "source": [
    ">矩阵合并。c_()方法进行行连接，根据参数顺序也将决定生产矩阵的结果。r_()方法用于列连接。"
   ]
  },
  {
   "cell_type": "code",
   "execution_count": 43,
   "metadata": {},
   "outputs": [
    {
     "name": "stdout",
     "output_type": "stream",
     "text": [
      "将mat2矩阵添加在原矩阵右侧\n",
      " [[1 2 4]\n",
      " [3 4 5]]\n",
      "将mat2矩阵添加在原矩阵左侧\n",
      " [[4 1 2]\n",
      " [5 3 4]]\n",
      "在原矩阵上方连接矩阵\n",
      " [[ 1  2  3]\n",
      " [ 1  2  3]\n",
      " [ 6  7  8]\n",
      " [11 12 17]]\n"
     ]
    }
   ],
   "source": [
    "mat1=np.mat([[1,2],[3,4]])\n",
    "mat2=np.mat([4,5])\n",
    "matrix_r = np.c_[mat1,mat2.T]\n",
    "print('将mat2矩阵添加在原矩阵右侧\\n',matrix_r)\n",
    "matrix_l = np.c_[mat2.T,mat1]\n",
    "print('将mat2矩阵添加在原矩阵左侧\\n',matrix_l)\n",
    "matrix_u = np.r_[np.mat([array1]),matrix]\n",
    "print('在原矩阵上方连接矩阵\\n',matrix_u)"
   ]
  },
  {
   "cell_type": "markdown",
   "metadata": {},
   "source": [
    "## 6.4 Matrix删除操作"
   ]
  },
  {
   "cell_type": "markdown",
   "metadata": {},
   "source": [
    ">矩阵删除。delete()方法可删除矩阵的指定行列，具体类似数组中的用法。"
   ]
  },
  {
   "cell_type": "code",
   "execution_count": 44,
   "metadata": {},
   "outputs": [
    {
     "name": "stdout",
     "output_type": "stream",
     "text": [
      "删除第一行后的结果\n",
      " [[ 1  3]\n",
      " [ 6  8]\n",
      " [11 17]]\n",
      "删除第一列后的结果\n",
      " [[ 1  2  3]\n",
      " [11 12 17]]\n"
     ]
    }
   ],
   "source": [
    "matrix2 = np.delete(matrix,1,axis = 1)\n",
    "print('删除第一行后的结果\\n',matrix2)\n",
    "matrix3 = np.delete(matrix,1,axis = 0)\n",
    "print('删除第一列后的结果\\n',matrix3)"
   ]
  },
  {
   "cell_type": "markdown",
   "metadata": {},
   "source": [
    "## 6.5 Matrix特殊操作"
   ]
  },
  {
   "cell_type": "markdown",
   "metadata": {},
   "source": [
    ">矩阵运算。在矩阵运算中，*被重写用于矩阵乘法，.dot()则用于计算矩阵点乘。"
   ]
  },
  {
   "cell_type": "code",
   "execution_count": 45,
   "metadata": {},
   "outputs": [
    {
     "name": "stdout",
     "output_type": "stream",
     "text": [
      "矩阵乘法结果\n",
      " [[19 22]\n",
      " [43 50]]\n",
      "矩阵点乘结果\n",
      " [[19 22]\n",
      " [43 50]]\n"
     ]
    }
   ],
   "source": [
    "mat3=np.mat([[5,6],[7,8]])\n",
    "matrix4 = mat1 * mat3\n",
    "print('矩阵乘法结果\\n',matrix4)\n",
    "matrix5 = mat1.dot(mat3)\n",
    "print('矩阵点乘结果\\n',matrix5)"
   ]
  },
  {
   "cell_type": "markdown",
   "metadata": {},
   "source": [
    ">矩阵常用函数。矩阵也可以使用.T进行转置。linalg.inv()可以用于求逆矩阵，但若不存在逆矩阵则报错"
   ]
  },
  {
   "cell_type": "code",
   "execution_count": 46,
   "metadata": {},
   "outputs": [
    {
     "name": "stdout",
     "output_type": "stream",
     "text": [
      "\n",
      "矩阵转置后：\n",
      " [[ 1  6 11]\n",
      " [ 2  7 12]\n",
      " [ 3  8 17]] \n",
      "矩阵求逆后：\n",
      " [[-2.   1. ]\n",
      " [ 1.5 -0.5]]\n"
     ]
    }
   ],
   "source": [
    "matrix6 = matrix.T\n",
    "matrix7 = np.linalg.inv(mat1)\n",
    "print('\\n矩阵转置后：\\n',matrix6,\n",
    "      '\\n矩阵求逆后：\\n',matrix7)"
   ]
  },
  {
   "cell_type": "markdown",
   "metadata": {},
   "source": [
    ">求矩阵特征值（使用numpy必须是方阵）"
   ]
  },
  {
   "cell_type": "code",
   "execution_count": 47,
   "metadata": {},
   "outputs": [
    {
     "data": {
      "text/plain": [
       "(array([24.88734753, -0.8418908 ,  0.95454327]),\n",
       " matrix([[-0.1481723 , -0.87920199,  0.10036602],\n",
       "         [-0.4447565 ,  0.3814255 , -0.82855015],\n",
       "         [-0.88331004,  0.28551435,  0.550846  ]]))"
      ]
     },
     "execution_count": 47,
     "metadata": {},
     "output_type": "execute_result"
    }
   ],
   "source": [
    "matrix8 = np.linalg.eig(matrix)\n",
    "matrix8"
   ]
  },
  {
   "cell_type": "markdown",
   "metadata": {},
   "source": [
    "## 6.7 Matrix转换为其他数据结构示例"
   ]
  },
  {
   "cell_type": "markdown",
   "metadata": {},
   "source": [
    ">矩阵数据类型转换。由于结构类似，矩阵常常与列表和数组进行数据类型的转换。"
   ]
  },
  {
   "cell_type": "code",
   "execution_count": 48,
   "metadata": {},
   "outputs": [
    {
     "name": "stdout",
     "output_type": "stream",
     "text": [
      "矩阵列表：\n",
      " [[1, 2, 3], [6, 7, 8], [11, 12, 17]] \n",
      "矩阵转数组:\n",
      " [[ 1  2  3]\n",
      " [ 6  7  8]\n",
      " [11 12 17]]\n"
     ]
    }
   ],
   "source": [
    "print(\"矩阵列表：\\n\",matrix.tolist(),\n",
    "      \"\\n矩阵转数组:\\n\",np.array(matrix))"
   ]
  },
  {
   "cell_type": "code",
   "execution_count": 49,
   "metadata": {},
   "outputs": [],
   "source": [
    "# 第三部分 Pandas中的数据结构，包括Series、DataFrame"
   ]
  },
  {
   "cell_type": "markdown",
   "metadata": {},
   "source": [
    "# 第三部分 Pandas中的数据结构，包括 Series和DataFrame"
   ]
  },
  {
   "cell_type": "markdown",
   "metadata": {},
   "source": [
    "## 7.序列(Series)"
   ]
  },
  {
   "cell_type": "markdown",
   "metadata": {},
   "source": [
    "## 7.1 创建Series"
   ]
  },
  {
   "cell_type": "markdown",
   "metadata": {},
   "source": [
    ">引入pandas包并取别名pd"
   ]
  },
  {
   "cell_type": "code",
   "execution_count": 50,
   "metadata": {},
   "outputs": [],
   "source": [
    "import pandas as pd"
   ]
  },
  {
   "cell_type": "markdown",
   "metadata": {},
   "source": [
    ">创建序列对象。首先建立一个字典字典，使用Series()方法将字典转换成为序列对象，字典的key会自动成为series的index。若转换列表，则生产的序列对象会自动赋予index值。"
   ]
  },
  {
   "cell_type": "code",
   "execution_count": 51,
   "metadata": {},
   "outputs": [
    {
     "name": "stdout",
     "output_type": "stream",
     "text": [
      "利用字典生成的序列对象\n",
      " Ohio      35000\n",
      "Texas     71000\n",
      "Oregon    16000\n",
      "Utah       5000\n",
      "dtype: int64\n",
      "显示该数据结构类型 <class 'pandas.core.series.Series'>\n",
      "利用列表生成的序列对象\n",
      " 0    6\n",
      "1    1\n",
      "2    2\n",
      "3    9\n",
      "dtype: int64\n"
     ]
    }
   ],
   "source": [
    "sdata = {'Ohio': 35000, 'Texas': 71000, 'Oregon':16000, 'Utah': 5000}\n",
    "s0 = pd.Series(sdata)\n",
    "print('利用字典生成的序列对象\\n',s0)\n",
    "print(\"显示该数据结构类型\",type(s0))\n",
    "s1 = pd.Series([6, 1, 2, 9])\n",
    "print('利用列表生成的序列对象\\n',s1)"
   ]
  },
  {
   "cell_type": "markdown",
   "metadata": {},
   "source": [
    ">添加索引。通过指定index为series增加索引。"
   ]
  },
  {
   "cell_type": "code",
   "execution_count": 52,
   "metadata": {},
   "outputs": [
    {
     "data": {
      "text/plain": [
       "a    6\n",
       "b    1\n",
       "c    2\n",
       "d    9\n",
       "dtype: int64"
      ]
     },
     "execution_count": 52,
     "metadata": {},
     "output_type": "execute_result"
    }
   ],
   "source": [
    "s1 = pd.Series([6, 1, 2, 9],index=['a','b','c','d'])\n",
    "s1"
   ]
  },
  {
   "cell_type": "markdown",
   "metadata": {},
   "source": [
    "## 7.2 Series查询操作"
   ]
  },
  {
   "cell_type": "markdown",
   "metadata": {},
   "source": [
    ">序列常用属性。values显示series中的值，index显示索引，此外还可以按照索引值显示元素。"
   ]
  },
  {
   "cell_type": "code",
   "execution_count": 53,
   "metadata": {},
   "outputs": [
    {
     "name": "stdout",
     "output_type": "stream",
     "text": [
      "序列的值\n",
      " [35000 71000 16000  5000]\n",
      "序列的索引\n",
      " Index(['Ohio', 'Texas', 'Oregon', 'Utah'], dtype='object')\n",
      "按照下标查找序列 16000\n",
      "按照索引值查找元素 5000\n",
      "按照下标批量查找序列\n",
      " Ohio     35000\n",
      "Texas    71000\n",
      "dtype: int64\n",
      "按照索引值批量查找元素\n",
      " Ohio      35000\n",
      "Oregon    16000\n",
      "dtype: int64\n"
     ]
    }
   ],
   "source": [
    "print('序列的值\\n',s0.values)\n",
    "print('序列的索引\\n',s0.index)\n",
    "print('按照下标查找序列',s0[2])\n",
    "print('按照索引值查找元素',s0['Utah'])\n",
    "print('按照下标批量查找序列\\n',s0[:2])\n",
    "print('按照索引值批量查找元素\\n',s0[['Ohio', 'Oregon']])"
   ]
  },
  {
   "cell_type": "markdown",
   "metadata": {},
   "source": [
    "## 7.3 Series增加操作"
   ]
  },
  {
   "cell_type": "markdown",
   "metadata": {},
   "source": [
    ">序列增加。append()方法为series增加元素，index可以指定索引值。"
   ]
  },
  {
   "cell_type": "code",
   "execution_count": 54,
   "metadata": {},
   "outputs": [
    {
     "data": {
      "text/plain": [
       "a     6\n",
       "b     1\n",
       "c     2\n",
       "d     9\n",
       "e    12\n",
       "dtype: int64"
      ]
     },
     "execution_count": 54,
     "metadata": {},
     "output_type": "execute_result"
    }
   ],
   "source": [
    "s2 = s1.append(pd.Series([12],index = ['e']))\n",
    "s2"
   ]
  },
  {
   "cell_type": "markdown",
   "metadata": {},
   "source": [
    "## 7.4 Series删除操作"
   ]
  },
  {
   "cell_type": "markdown",
   "metadata": {},
   "source": [
    ">序列的删除。删除series中的元素（只能通过index来删除元素）。"
   ]
  },
  {
   "cell_type": "code",
   "execution_count": 55,
   "metadata": {},
   "outputs": [
    {
     "data": {
      "text/plain": [
       "b    1\n",
       "c    2\n",
       "d    9\n",
       "dtype: int64"
      ]
     },
     "execution_count": 55,
     "metadata": {},
     "output_type": "execute_result"
    }
   ],
   "source": [
    "s3 = s1.drop('a')\n",
    "s3"
   ]
  },
  {
   "cell_type": "markdown",
   "metadata": {},
   "source": [
    "## 7.5 Series修改操作"
   ]
  },
  {
   "cell_type": "markdown",
   "metadata": {},
   "source": [
    ">序列的修改。序列中可以直接根据索引查找并更新元素。"
   ]
  },
  {
   "cell_type": "code",
   "execution_count": 56,
   "metadata": {},
   "outputs": [
    {
     "data": {
      "text/plain": [
       "a    4\n",
       "b    1\n",
       "c    2\n",
       "d    9\n",
       "dtype: int64"
      ]
     },
     "execution_count": 56,
     "metadata": {},
     "output_type": "execute_result"
    }
   ],
   "source": [
    "s1['a'] = 4  #将s1中index为a的元素更改为4\n",
    "s1"
   ]
  },
  {
   "cell_type": "markdown",
   "metadata": {},
   "source": [
    "## 7.6 Series特殊操作"
   ]
  },
  {
   "cell_type": "markdown",
   "metadata": {},
   "source": [
    ">序列排序。sort_values()方法可以使series的值按照升序排序。"
   ]
  },
  {
   "cell_type": "code",
   "execution_count": 57,
   "metadata": {},
   "outputs": [
    {
     "data": {
      "text/plain": [
       "b    1\n",
       "c    2\n",
       "a    4\n",
       "d    9\n",
       "dtype: int64"
      ]
     },
     "execution_count": 57,
     "metadata": {},
     "output_type": "execute_result"
    }
   ],
   "source": [
    "s1.sort_values()"
   ]
  },
  {
   "cell_type": "markdown",
   "metadata": {},
   "source": [
    ">序列求中位数。median()方法可以直接得到序列的中位数，在此之上可以进行比较等操作。"
   ]
  },
  {
   "cell_type": "code",
   "execution_count": 58,
   "metadata": {},
   "outputs": [
    {
     "name": "stdout",
     "output_type": "stream",
     "text": [
      "a    4\n",
      "b    1\n",
      "c    2\n",
      "d    9\n",
      "dtype: int64\n",
      "中位数为：3.0\n",
      "大于序列中位数的数\n",
      " a    4\n",
      "d    9\n",
      "dtype: int64\n"
     ]
    }
   ],
   "source": [
    "print(s1)\n",
    "print(\"中位数为：\" + str(s1.median()))\n",
    "print(\"大于序列中位数的数\\n\",s1[s1 > s1.median()])"
   ]
  },
  {
   "cell_type": "markdown",
   "metadata": {},
   "source": [
    ">序列的运算。两个series之间的运算，可加减乘除（必须保证index是一致的）。"
   ]
  },
  {
   "cell_type": "code",
   "execution_count": 59,
   "metadata": {},
   "outputs": [
    {
     "data": {
      "text/plain": [
       "a     8\n",
       "b     4\n",
       "c     7\n",
       "d    17\n",
       "dtype: int64"
      ]
     },
     "execution_count": 59,
     "metadata": {},
     "output_type": "execute_result"
    }
   ],
   "source": [
    "s2 = pd.Series([4, 3, 5, 8],index=['a','b','c','d'])\n",
    "s2+s1"
   ]
  },
  {
   "cell_type": "markdown",
   "metadata": {},
   "source": [
    ">时间序列。pandas包中的data_range()方法可以生产时间序列，便于进行数据的处理。"
   ]
  },
  {
   "cell_type": "code",
   "execution_count": 60,
   "metadata": {},
   "outputs": [
    {
     "name": "stdout",
     "output_type": "stream",
     "text": [
      "产生的序列是:\n",
      " 0    100\n",
      "1    150\n",
      "2    200\n",
      "dtype: int64\n",
      "\n",
      "生成的时间序列是：\n",
      " DatetimeIndex(['2019-09-30', '2019-10-31', '2019-11-30'], dtype='datetime64[ns]', freq='M')\n",
      "\n",
      "产生的时间序列是：\n",
      " 2019-09-30    100\n",
      "2019-10-31    150\n",
      "2019-11-30    200\n",
      "Freq: M, dtype: int64\n"
     ]
    }
   ],
   "source": [
    "s3=pd.Series([100, 150, 200])\n",
    "print(\"产生的序列是:\\n\",s3)\n",
    "idx=pd.date_range(start='2019-9',freq='M',periods=3)\n",
    "print(\"\\n生成的时间序列是：\\n\",idx)\n",
    "s3.index=idx\n",
    "print(\"\\n产生的时间序列是：\\n\",s3)"
   ]
  },
  {
   "cell_type": "markdown",
   "metadata": {},
   "source": [
    "## 7.7 Series转换为其他数据结构示例"
   ]
  },
  {
   "cell_type": "code",
   "execution_count": 61,
   "metadata": {},
   "outputs": [
    {
     "name": "stdout",
     "output_type": "stream",
     "text": [
      "Series转DataFrame\n",
      "    0\n",
      "a  4\n",
      "b  3\n",
      "c  5\n",
      "d  8\n",
      "显示数据结构类型： <class 'pandas.core.frame.DataFrame'>\n"
     ]
    }
   ],
   "source": [
    "dfFromSeries=s2.to_frame()\n",
    "print(\"Series转DataFrame\\n\",dfFromSeries)\n",
    "print(\"显示数据结构类型：\",type(dfFromSeries))"
   ]
  },
  {
   "cell_type": "code",
   "execution_count": 62,
   "metadata": {},
   "outputs": [
    {
     "name": "stdout",
     "output_type": "stream",
     "text": [
      "Series转Dict\n",
      " {'a': 4, 'b': 3, 'c': 5, 'd': 8}\n",
      "显示数据结构类型： <class 'dict'>\n"
     ]
    }
   ],
   "source": [
    "dictFromSeries=s2.to_dict()\n",
    "print(\"Series转Dict\\n\",dictFromSeries)\n",
    "print(\"显示数据结构类型：\",type(dictFromSeries))"
   ]
  },
  {
   "cell_type": "markdown",
   "metadata": {},
   "source": [
    "## 8.数据框(DataFrame)"
   ]
  },
  {
   "cell_type": "markdown",
   "metadata": {},
   "source": [
    "## 8.1创建DataFrame"
   ]
  },
  {
   "cell_type": "markdown",
   "metadata": {},
   "source": [
    ">引入pandas包\n",
    ">创建DataFrame对象。首先创建词典，之后使用DataFrame()方法创建数据框对象。通过index.name给其索引命名。最后使用to_csv和to_excl方法将其保存为csv和excl文件。"
   ]
  },
  {
   "cell_type": "code",
   "execution_count": 63,
   "metadata": {},
   "outputs": [],
   "source": [
    "import pandas as pd"
   ]
  },
  {
   "cell_type": "code",
   "execution_count": 90,
   "metadata": {},
   "outputs": [
    {
     "name": "stdout",
     "output_type": "stream",
     "text": [
      "显示该数据结构类型 <class 'pandas.core.frame.DataFrame'>\n"
     ]
    },
    {
     "data": {
      "text/html": [
       "<div>\n",
       "<style scoped>\n",
       "    .dataframe tbody tr th:only-of-type {\n",
       "        vertical-align: middle;\n",
       "    }\n",
       "\n",
       "    .dataframe tbody tr th {\n",
       "        vertical-align: top;\n",
       "    }\n",
       "\n",
       "    .dataframe thead th {\n",
       "        text-align: right;\n",
       "    }\n",
       "</style>\n",
       "<table border=\"1\" class=\"dataframe\">\n",
       "  <thead>\n",
       "    <tr style=\"text-align: right;\">\n",
       "      <th></th>\n",
       "      <th>name</th>\n",
       "      <th>no</th>\n",
       "      <th>age</th>\n",
       "      <th>gender</th>\n",
       "    </tr>\n",
       "    <tr>\n",
       "      <th>id</th>\n",
       "      <th></th>\n",
       "      <th></th>\n",
       "      <th></th>\n",
       "      <th></th>\n",
       "    </tr>\n",
       "  </thead>\n",
       "  <tbody>\n",
       "    <tr>\n",
       "      <th>0</th>\n",
       "      <td>Tom</td>\n",
       "      <td>001</td>\n",
       "      <td>16</td>\n",
       "      <td>m</td>\n",
       "    </tr>\n",
       "    <tr>\n",
       "      <th>1</th>\n",
       "      <td>Lily</td>\n",
       "      <td>002</td>\n",
       "      <td>16</td>\n",
       "      <td>f</td>\n",
       "    </tr>\n",
       "    <tr>\n",
       "      <th>2</th>\n",
       "      <td>Cindy</td>\n",
       "      <td>003</td>\n",
       "      <td>15</td>\n",
       "      <td>f</td>\n",
       "    </tr>\n",
       "    <tr>\n",
       "      <th>3</th>\n",
       "      <td>Petter</td>\n",
       "      <td>004</td>\n",
       "      <td>16</td>\n",
       "      <td>m</td>\n",
       "    </tr>\n",
       "  </tbody>\n",
       "</table>\n",
       "</div>"
      ],
      "text/plain": [
       "      name   no  age gender\n",
       "id                         \n",
       "0      Tom  001   16      m\n",
       "1     Lily  002   16      f\n",
       "2    Cindy  003   15      f\n",
       "3   Petter  004   16      m"
      ]
     },
     "execution_count": 90,
     "metadata": {},
     "output_type": "execute_result"
    }
   ],
   "source": [
    "dic1 = {'name':['Tom','Lily','Cindy','Petter'],'no':['001','002','003','004'],'age':[16,16,15,16],'gender':['m','f','f','m']}\n",
    "df1 = pd.DataFrame(dic1)\n",
    "print(\"显示该数据结构类型\",type(df1))\n",
    "df1.index.name = 'id'\n",
    "df1.to_csv('students.csv')\n",
    "df1.to_excel('students.xls')\n",
    "df1"
   ]
  },
  {
   "cell_type": "markdown",
   "metadata": {},
   "source": [
    "## 8.2 DataFrame查询操作"
   ]
  },
  {
   "cell_type": "markdown",
   "metadata": {},
   "source": [
    ">DataFrame查询。通过DataFrame.name可以返回索引值为name的整列数据，而DataFrame.iloc[i]可以返回指定行数的全部数据。除此之外也可以使用根据时间序列查找内容。"
   ]
  },
  {
   "cell_type": "code",
   "execution_count": 65,
   "metadata": {},
   "outputs": [
    {
     "name": "stdout",
     "output_type": "stream",
     "text": [
      "\n",
      "列数据索引\n",
      " id\n",
      "0    001\n",
      "1    002\n",
      "2    003\n",
      "3    004\n",
      "Name: no, dtype: object \n",
      "行数据索引\n",
      " name      Petter\n",
      "no           004\n",
      "age           16\n",
      "gender         m\n",
      "Name: 3, dtype: object\n"
     ]
    }
   ],
   "source": [
    "column=df1.no\n",
    "row=df1.loc[3]\n",
    "print('\\n列数据索引\\n',column,'\\n行数据索引\\n',row)"
   ]
  },
  {
   "cell_type": "markdown",
   "metadata": {},
   "source": [
    "## 8.3 DataFrame增加操作"
   ]
  },
  {
   "cell_type": "markdown",
   "metadata": {},
   "source": [
    ">数据框的增加。使用append()方法增加一名同学的信息,这里根据行索引分别添加值。update()方法可以给数据框增加列。"
   ]
  },
  {
   "cell_type": "code",
   "execution_count": 66,
   "metadata": {},
   "outputs": [
    {
     "name": "stdout",
     "output_type": "stream",
     "text": [
      "修改前:\n",
      "       name   no  age gender\n",
      "id                         \n",
      "0      Tom  001   16      m\n",
      "1     Lily  002   16      f\n",
      "2    Cindy  003   15      f\n",
      "3   Petter  004   16      m\n",
      "增加行:\n",
      "      name   no  age gender\n",
      "0     Tom  001   16      m\n",
      "1    Lily  002   16      f\n",
      "2   Cindy  003   15      f\n",
      "3  Petter  004   16      m\n",
      "4   Stark  005   15      m\n",
      "增加列:\n",
      "      name   no  age gender  new_Col\n",
      "0     Tom  001   16      m        1\n",
      "1    Lily  002   16      f        2\n",
      "2   Cindy  003   15      f        3\n",
      "3  Petter  004   16      m        4\n",
      "4   Stark  005   15      m        5\n"
     ]
    }
   ],
   "source": [
    "print('修改前:\\n',df1)\n",
    "df2 = df1.append([{'name':'Stark','no':'005','age':15,'gender':'m'}],ignore_index=True)\n",
    "print('增加行:\\n',df2)\n",
    "df2['new_Col'] = [1,2,3,4,5]\n",
    "print('增加列:\\n',df2)"
   ]
  },
  {
   "cell_type": "markdown",
   "metadata": {},
   "source": [
    "## 8.4 DataFrame删除操作"
   ]
  },
  {
   "cell_type": "markdown",
   "metadata": {},
   "source": [
    ">数据框的删除。使用drop方法删除'address'列,还可以通过修改参数删除行。除此之外通过del指令可以删除指定索引值的整列数据（操作一旦进行即不可恢复）。"
   ]
  },
  {
   "cell_type": "code",
   "execution_count": 67,
   "metadata": {},
   "outputs": [
    {
     "name": "stdout",
     "output_type": "stream",
     "text": [
      "处理前的数据\n",
      "       name   no  age gender\n",
      "id                         \n",
      "0      Tom  001   16      m\n",
      "1     Lily  002   16      f\n",
      "2    Cindy  003   15      f\n",
      "3   Petter  004   16      m\n",
      "删除列后的数据框\n",
      "      no  age gender\n",
      "id                 \n",
      "0   001   16      m\n",
      "1   002   16      f\n",
      "2   003   15      f\n",
      "3   004   16      m\n",
      "删除行后的数据框\n",
      "       name   no  age gender\n",
      "id                         \n",
      "0      Tom  001   16      m\n",
      "1     Lily  002   16      f\n",
      "3   Petter  004   16      m\n"
     ]
    }
   ],
   "source": [
    "df3=df1.copy()\n",
    "print('处理前的数据\\n',df1)\n",
    "df3b=df3.drop(['name'],axis=1)\n",
    "print('删除列后的数据框\\n',df3b)\n",
    "df3c=df3.drop([2])\n",
    "print('删除行后的数据框\\n',df3c)"
   ]
  },
  {
   "cell_type": "markdown",
   "metadata": {},
   "source": [
    "## 8.5 DataFrame修改操作"
   ]
  },
  {
   "cell_type": "markdown",
   "metadata": {},
   "source": [
    ">数据框按列合并（效果和增加列相同）"
   ]
  },
  {
   "cell_type": "code",
   "execution_count": 68,
   "metadata": {},
   "outputs": [
    {
     "name": "stdout",
     "output_type": "stream",
     "text": [
      "合并前的df1\n",
      "      name   no  age gender  new_Col\n",
      "0     Tom  001   16      m        1\n",
      "1    Lily  002   16      f        2\n",
      "2   Cindy  003   15      f        3\n",
      "3  Petter  004   16      m        4\n",
      "4   Stark  005   15      m        5\n",
      "合并前的df4\n",
      "   address\n",
      "0  school\n",
      "1    home\n",
      "2  school\n",
      "3  school\n",
      "4    home\n",
      "合并后的df5\n",
      "      name   no  age gender  new_Col address\n",
      "0     Tom  001   16      m        1  school\n",
      "1    Lily  002   16      f        2    home\n",
      "2   Cindy  003   15      f        3  school\n",
      "3  Petter  004   16      m        4  school\n",
      "4   Stark  005   15      m        5    home\n"
     ]
    }
   ],
   "source": [
    "df4 = pd.DataFrame({'address':['school','home','school','school','home']})\n",
    "df5 = pd.concat([df2,df4],axis=1)\n",
    "print('合并前的df2\\n',df2)\n",
    "print('合并前的df4\\n',df4)\n",
    "print('合并后的df5\\n',df5)"
   ]
  },
  {
   "cell_type": "markdown",
   "metadata": {},
   "source": [
    ">数据框按行合并（效果和增加学生信息相同）"
   ]
  },
  {
   "cell_type": "code",
   "execution_count": 69,
   "metadata": {},
   "outputs": [
    {
     "name": "stdout",
     "output_type": "stream",
     "text": [
      "合并前的df1\n",
      "       name   no  age gender\n",
      "id                         \n",
      "0      Tom  001   16      m\n",
      "1     Lily  002   16      f\n",
      "2    Cindy  003   15      f\n",
      "3   Petter  004   16      m\n",
      "合并前的df6\n",
      "    name   no  age gender\n",
      "0  Tony  005   16      m\n",
      "合并后的df7\n",
      "      name   no  age gender\n",
      "0     Tom  001   16      m\n",
      "1    Lily  002   16      f\n",
      "2   Cindy  003   15      f\n",
      "3  Petter  004   16      m\n",
      "0    Tony  005   16      m\n"
     ]
    }
   ],
   "source": [
    "df6 = pd.DataFrame({'name':['Tony'],'no':['005'],'age':[16],'gender':['m']})\n",
    "df7 = pd.concat([df1,df6],axis=0)\n",
    "print('合并前的df1\\n',df1)\n",
    "print('合并前的df6\\n',df6)\n",
    "print('合并后的df7\\n',df7)"
   ]
  },
  {
   "cell_type": "markdown",
   "metadata": {},
   "source": [
    "## 8.6 DataFrame特殊操作"
   ]
  },
  {
   "cell_type": "markdown",
   "metadata": {},
   "source": [
    ">数据框的时间序列。通过date_range函数生成序列并加入数据中，列如创建从2019年9月21日开始的连续4天的时间序列。使用pandas包中的read_csv()方法读取之前保存的学生数据，更新数据后可以看到生成的时间序列已经加入到了数据框中。"
   ]
  },
  {
   "cell_type": "code",
   "execution_count": 91,
   "metadata": {},
   "outputs": [
    {
     "name": "stdout",
     "output_type": "stream",
     "text": [
      "产生的时间序列是：\n",
      " DatetimeIndex(['2019-09-21', '2019-09-28', '2019-10-05', '2019-10-12'], dtype='datetime64[ns]', freq='7D')\n",
      "设置索引前的df1是：\n",
      "       name   no  age gender\n",
      "id                         \n",
      "0      Tom  001   16      m\n",
      "1     Lily  002   16      f\n",
      "2    Cindy  003   15      f\n",
      "3   Petter  004   16      m\n",
      "设置索引后的df10是：\n",
      "               name   no  age gender\n",
      "2019-09-21     Tom  001   16      m\n",
      "2019-09-28    Lily  002   16      f\n",
      "2019-10-05   Cindy  003   15      f\n",
      "2019-10-12  Petter  004   16      m\n"
     ]
    }
   ],
   "source": [
    "myTime=pd.date_range('2019/9/21', periods=4, freq='7D')\n",
    "print('产生的时间序列是：\\n',myTime)\n",
    "df10=df1\n",
    "print('设置索引前的df1是：\\n',df1)\n",
    "df10.index=myTime\n",
    "print('设置索引后的df10是：\\n',df10)"
   ]
  },
  {
   "cell_type": "markdown",
   "metadata": {},
   "source": [
    ">时间序列查询"
   ]
  },
  {
   "cell_type": "code",
   "execution_count": 71,
   "metadata": {},
   "outputs": [
    {
     "name": "stdout",
     "output_type": "stream",
     "text": [
      "\n",
      "根据时间序列索引得到的值\n",
      "            gender  age  name\n",
      "2019-09-21      m   16   Tom\n",
      "2019-09-28      f   16  Lily\n"
     ]
    }
   ],
   "source": [
    "print('\\n根据时间序列索引得到的值\\n',df10.loc[\"2019-09-21\":\"2019-09-30\",['gender','age','name']])"
   ]
  },
  {
   "cell_type": "markdown",
   "metadata": {},
   "source": [
    "## 8.7 DataFrame转换为其他数据结构示例"
   ]
  },
  {
   "cell_type": "markdown",
   "metadata": {},
   "source": [
    ">DataFrame由于具有相对复杂的结构，故其数据类型转换与其他类型略有不同。"
   ]
  },
  {
   "cell_type": "code",
   "execution_count": 72,
   "metadata": {},
   "outputs": [
    {
     "name": "stdout",
     "output_type": "stream",
     "text": [
      "DataFrame转ndarray\n",
      " [[0 'Tom' 1 16 'm']\n",
      " [1 'Lily' 2 16 'f']\n",
      " [2 'Cindy' 3 15 'f']\n",
      " [3 'Petter' 4 16 'm']] \n",
      "DataFrame转series\n",
      " 2019-09-21    m\n",
      "2019-09-28    f\n",
      "2019-10-05    f\n",
      "2019-10-12    m\n",
      "Freq: 7D, Name: gender, dtype: object\n"
     ]
    }
   ],
   "source": [
    "print(\"DataFrame转ndarray\\n\",df10.values,\n",
    "      \"\\nDataFrame转series\\n\",df10['gender'])"
   ]
  },
  {
   "cell_type": "markdown",
   "metadata": {},
   "source": [
    "# 第四部分 数据可视化"
   ]
  },
  {
   "cell_type": "markdown",
   "metadata": {},
   "source": [
    "## 9.matplotlib数据可视化"
   ]
  },
  {
   "cell_type": "markdown",
   "metadata": {},
   "source": [
    "## 9.1 准备工作"
   ]
  },
  {
   "cell_type": "markdown",
   "metadata": {},
   "source": [
    ">matplotlib绘图的准备。导入matplotlib下的python绘图包取别名为plt,导入matplotlib包并取别名mpl。这里使用pandas包中的read_csv()方法读入股票数据stock，用作画图使用。"
   ]
  },
  {
   "cell_type": "code",
   "execution_count": 73,
   "metadata": {},
   "outputs": [
    {
     "data": {
      "text/html": [
       "<div>\n",
       "<style scoped>\n",
       "    .dataframe tbody tr th:only-of-type {\n",
       "        vertical-align: middle;\n",
       "    }\n",
       "\n",
       "    .dataframe tbody tr th {\n",
       "        vertical-align: top;\n",
       "    }\n",
       "\n",
       "    .dataframe thead th {\n",
       "        text-align: right;\n",
       "    }\n",
       "</style>\n",
       "<table border=\"1\" class=\"dataframe\">\n",
       "  <thead>\n",
       "    <tr style=\"text-align: right;\">\n",
       "      <th></th>\n",
       "      <th>open</th>\n",
       "      <th>close</th>\n",
       "      <th>high</th>\n",
       "      <th>low</th>\n",
       "      <th>volume</th>\n",
       "    </tr>\n",
       "    <tr>\n",
       "      <th>date</th>\n",
       "      <th></th>\n",
       "      <th></th>\n",
       "      <th></th>\n",
       "      <th></th>\n",
       "      <th></th>\n",
       "    </tr>\n",
       "  </thead>\n",
       "  <tbody>\n",
       "    <tr>\n",
       "      <th>2018/5/21</th>\n",
       "      <td>23.870</td>\n",
       "      <td>23.810</td>\n",
       "      <td>24.069</td>\n",
       "      <td>23.592</td>\n",
       "      <td>43266</td>\n",
       "    </tr>\n",
       "    <tr>\n",
       "      <th>2018/5/22</th>\n",
       "      <td>23.701</td>\n",
       "      <td>23.691</td>\n",
       "      <td>23.970</td>\n",
       "      <td>23.432</td>\n",
       "      <td>32100</td>\n",
       "    </tr>\n",
       "    <tr>\n",
       "      <th>2018/5/23</th>\n",
       "      <td>23.630</td>\n",
       "      <td>23.350</td>\n",
       "      <td>23.700</td>\n",
       "      <td>23.320</td>\n",
       "      <td>26356</td>\n",
       "    </tr>\n",
       "    <tr>\n",
       "      <th>2018/5/24</th>\n",
       "      <td>23.460</td>\n",
       "      <td>23.290</td>\n",
       "      <td>23.550</td>\n",
       "      <td>23.260</td>\n",
       "      <td>21509</td>\n",
       "    </tr>\n",
       "    <tr>\n",
       "      <th>2018/5/25</th>\n",
       "      <td>24.210</td>\n",
       "      <td>23.750</td>\n",
       "      <td>25.000</td>\n",
       "      <td>23.720</td>\n",
       "      <td>115681</td>\n",
       "    </tr>\n",
       "  </tbody>\n",
       "</table>\n",
       "</div>"
      ],
      "text/plain": [
       "             open   close    high     low  volume\n",
       "date                                             \n",
       "2018/5/21  23.870  23.810  24.069  23.592   43266\n",
       "2018/5/22  23.701  23.691  23.970  23.432   32100\n",
       "2018/5/23  23.630  23.350  23.700  23.320   26356\n",
       "2018/5/24  23.460  23.290  23.550  23.260   21509\n",
       "2018/5/25  24.210  23.750  25.000  23.720  115681"
      ]
     },
     "execution_count": 73,
     "metadata": {},
     "output_type": "execute_result"
    }
   ],
   "source": [
    "import numpy as np\n",
    "import pandas as pd\n",
    "import matplotlib.pyplot as plt\n",
    "stock=pd.read_csv('stock.csv',index_col=0)\n",
    "stock.head()"
   ]
  },
  {
   "cell_type": "markdown",
   "metadata": {},
   "source": [
    "## 9.2 Pyplot绘图"
   ]
  },
  {
   "cell_type": "markdown",
   "metadata": {},
   "source": [
    ">绘制饼图。使用matplotlib.pyplot.figure函数建立窗口，之后使用matplotlib.pyplot.pie()绘制饼图，"
   ]
  },
  {
   "cell_type": "code",
   "execution_count": 74,
   "metadata": {},
   "outputs": [
    {
     "data": {
      "image/png": "[encoded data removed]",
      "text/plain": [
       "<Figure size 432x432 with 1 Axes>"
      ]
     },
     "metadata": {},
     "output_type": "display_data"
    }
   ],
   "source": [
    "%matplotlib inline\n",
    "#将图表嵌入jupyterlab中\n",
    "\n",
    "plt.rcParams['font.sans-serif']='SimHei'  #设置中文显示\n",
    "plt.figure(figsize=(6,6))#设定长宽建立窗口\n",
    "plt.title('2018年5月21日~29日成交量饼图')#设置标题\n",
    "plt.pie(stock.volume,labels=stock.index,autopct='%1.1f%%')#autopct输出精度为1的数字+%\n",
    "plt.grid(True)"
   ]
  },
  {
   "cell_type": "markdown",
   "metadata": {},
   "source": [
    ">绘制折线图。使用matplotlib.pyplot.plot函数绘制折线图。使用matplotlib.pyplot.legend设置label坐标位置。"
   ]
  },
  {
   "cell_type": "code",
   "execution_count": 75,
   "metadata": {},
   "outputs": [
    {
     "data": {
      "text/plain": [
       "Text(0.5,1,'Stock Trend')"
      ]
     },
     "execution_count": 75,
     "metadata": {},
     "output_type": "execute_result"
    },
    {
     "data": {
      "image/png": "[encoded data removed]",
      "text/plain": [
       "<Figure size 432x288 with 1 Axes>"
      ]
     },
     "metadata": {},
     "output_type": "display_data"
    }
   ],
   "source": [
    "plt.plot(stock.open,color='k',label='开盘')\n",
    "plt.plot(stock.high,color='g',label='最高价')\n",
    "plt.plot(stock.close,color='r',label='收盘')\n",
    "plt.legend(loc=0)##设置label标签位置，0左上角\n",
    "plt.grid(True)\n",
    "plt.xlabel('index')\n",
    "plt.ylabel('value')\n",
    "plt.title('Stock Trend')#设置标题"
   ]
  },
  {
   "cell_type": "markdown",
   "metadata": {},
   "source": [
    ">绘制直方图。使用matplotlib.pyplot.bar函数绘制直方图。使用xlabel,ylabel设定x,y轴的名称。"
   ]
  },
  {
   "cell_type": "code",
   "execution_count": 76,
   "metadata": {},
   "outputs": [
    {
     "data": {
      "text/plain": [
       "Text(0.5,1,'2018年5月21日~31日成交量')"
      ]
     },
     "execution_count": 76,
     "metadata": {},
     "output_type": "execute_result"
    },
    {
     "data": {
      "image/png": "[encoded data removed]",
      "text/plain": [
       "<Figure size 432x288 with 1 Axes>"
      ]
     },
     "metadata": {},
     "output_type": "display_data"
    }
   ],
   "source": [
    "plt.bar(stock.index,stock.volume,color='g',width=0.5)\n",
    "plt.grid(True)\n",
    "plt.xlabel('index')\n",
    "plt.ylabel('volume')\n",
    "plt.title('2018年5月21日~31日成交量')"
   ]
  },
  {
   "cell_type": "markdown",
   "metadata": {},
   "source": [
    ">绘制散点图。使用matplotlib.pyplot.scatter函数绘制散点图。属性c用以设置散点色彩，属性norm用以设置散点亮度，属性s用以设置散点大小。"
   ]
  },
  {
   "cell_type": "code",
   "execution_count": 77,
   "metadata": {},
   "outputs": [
    {
     "data": {
      "text/plain": [
       "<matplotlib.collections.PathCollection at 0x23deaa00ba8>"
      ]
     },
     "execution_count": 77,
     "metadata": {},
     "output_type": "execute_result"
    },
    {
     "data": {
      "image/png": "[encoded data removed]",
      "text/plain": [
       "<Figure size 432x288 with 1 Axes>"
      ]
     },
     "metadata": {},
     "output_type": "display_data"
    }
   ],
   "source": [
    "plt.scatter(stock.index,stock.low,marker='o')#maker指定形状"
   ]
  },
  {
   "cell_type": "markdown",
   "metadata": {},
   "source": [
    ">绘制箱线图。使用matplotlib.pyplot.boxplot函数绘制散点图"
   ]
  },
  {
   "cell_type": "code",
   "execution_count": 78,
   "metadata": {},
   "outputs": [
    {
     "data": {
      "image/png": "[encoded data removed]",
      "text/plain": [
       "<Figure size 432x288 with 1 Axes>"
      ]
     },
     "metadata": {},
     "output_type": "display_data"
    }
   ],
   "source": [
    "plt.boxplot((stock.open,stock.high,stock.close),labels=('open','high','close'))\n",
    "plt.show()"
   ]
  },
  {
   "cell_type": "markdown",
   "metadata": {},
   "source": [
    "## 9.3 DataFrame绘图"
   ]
  },
  {
   "cell_type": "markdown",
   "metadata": {},
   "source": [
    ">准备工作。使用Numpy包中的randint()方法生成一个随机数组并转换为DataFrame格式，便于接下来的绘图工作。"
   ]
  },
  {
   "cell_type": "code",
   "execution_count": 79,
   "metadata": {},
   "outputs": [
    {
     "data": {
      "text/html": [
       "<div>\n",
       "<style scoped>\n",
       "    .dataframe tbody tr th:only-of-type {\n",
       "        vertical-align: middle;\n",
       "    }\n",
       "\n",
       "    .dataframe tbody tr th {\n",
       "        vertical-align: top;\n",
       "    }\n",
       "\n",
       "    .dataframe thead th {\n",
       "        text-align: right;\n",
       "    }\n",
       "</style>\n",
       "<table border=\"1\" class=\"dataframe\">\n",
       "  <thead>\n",
       "    <tr style=\"text-align: right;\">\n",
       "      <th></th>\n",
       "      <th>A</th>\n",
       "      <th>B</th>\n",
       "      <th>C</th>\n",
       "    </tr>\n",
       "  </thead>\n",
       "  <tbody>\n",
       "    <tr>\n",
       "      <th>0</th>\n",
       "      <td>6</td>\n",
       "      <td>7</td>\n",
       "      <td>1</td>\n",
       "    </tr>\n",
       "    <tr>\n",
       "      <th>1</th>\n",
       "      <td>3</td>\n",
       "      <td>3</td>\n",
       "      <td>2</td>\n",
       "    </tr>\n",
       "    <tr>\n",
       "      <th>2</th>\n",
       "      <td>1</td>\n",
       "      <td>3</td>\n",
       "      <td>3</td>\n",
       "    </tr>\n",
       "    <tr>\n",
       "      <th>3</th>\n",
       "      <td>4</td>\n",
       "      <td>2</td>\n",
       "      <td>3</td>\n",
       "    </tr>\n",
       "    <tr>\n",
       "      <th>4</th>\n",
       "      <td>3</td>\n",
       "      <td>4</td>\n",
       "      <td>8</td>\n",
       "    </tr>\n",
       "  </tbody>\n",
       "</table>\n",
       "</div>"
      ],
      "text/plain": [
       "   A  B  C\n",
       "0  6  7  1\n",
       "1  3  3  2\n",
       "2  1  3  3\n",
       "3  4  2  3\n",
       "4  3  4  8"
      ]
     },
     "execution_count": 79,
     "metadata": {},
     "output_type": "execute_result"
    }
   ],
   "source": [
    "plot_df = pd.DataFrame(\n",
    "    np.random.randint(1,10,30).reshape(10,3),\n",
    "    columns = list('ABC')\n",
    ")\n",
    "plot_df.head()"
   ]
  },
  {
   "cell_type": "markdown",
   "metadata": {},
   "source": [
    ">绘制折线图。subplots属性会决定是否含有子图，这里为真则展示子图，默认按照数据框的列切分数据。由于未指定kind，这里默认为line，因此绘制折线图。"
   ]
  },
  {
   "cell_type": "code",
   "execution_count": 80,
   "metadata": {},
   "outputs": [
    {
     "data": {
      "text/plain": [
       "array([<matplotlib.axes._subplots.AxesSubplot object at 0x0000023DEAAA0898>,\n",
       "       <matplotlib.axes._subplots.AxesSubplot object at 0x0000023DEAAEBEF0>,\n",
       "       <matplotlib.axes._subplots.AxesSubplot object at 0x0000023DEAB1D4A8>],\n",
       "      dtype=object)"
      ]
     },
     "execution_count": 80,
     "metadata": {},
     "output_type": "execute_result"
    },
    {
     "data": {
      "image/png": "[encoded data removed]",
      "text/plain": [
       "<Figure size 432x432 with 3 Axes>"
      ]
     },
     "metadata": {},
     "output_type": "display_data"
    }
   ],
   "source": [
    "plot_df.plot(subplots=True,figsize=(6,6))"
   ]
  },
  {
   "cell_type": "markdown",
   "metadata": {},
   "source": [
    ">绘制横柱形图。"
   ]
  },
  {
   "cell_type": "code",
   "execution_count": 81,
   "metadata": {},
   "outputs": [
    {
     "data": {
      "text/plain": [
       "<matplotlib.axes._subplots.AxesSubplot at 0x23deabf7748>"
      ]
     },
     "execution_count": 81,
     "metadata": {},
     "output_type": "execute_result"
    },
    {
     "data": {
      "image/png": "[encoded data removed]",
      "text/plain": [
       "<Figure size 432x288 with 1 Axes>"
      ]
     },
     "metadata": {},
     "output_type": "display_data"
    }
   ],
   "source": [
    "plot_df.plot(kind='barh')"
   ]
  },
  {
   "cell_type": "markdown",
   "metadata": {},
   "source": [
    ">绘制柱形图。kind='bar'是柱形图。修改stacked属性可以使数据堆叠。"
   ]
  },
  {
   "cell_type": "code",
   "execution_count": 82,
   "metadata": {},
   "outputs": [
    {
     "data": {
      "text/plain": [
       "<matplotlib.axes._subplots.AxesSubplot at 0x23debc3bcf8>"
      ]
     },
     "execution_count": 82,
     "metadata": {},
     "output_type": "execute_result"
    },
    {
     "data": {
      "image/png": "[encoded data removed]",
      "text/plain": [
       "<Figure size 432x288 with 1 Axes>"
      ]
     },
     "metadata": {},
     "output_type": "display_data"
    }
   ],
   "source": [
    "plot_df.plot(kind='bar',stacked=True)"
   ]
  },
  {
   "cell_type": "markdown",
   "metadata": {},
   "source": [
    ">绘制面积图。Kind='area'是面积图。"
   ]
  },
  {
   "cell_type": "code",
   "execution_count": 83,
   "metadata": {},
   "outputs": [
    {
     "data": {
      "text/plain": [
       "<matplotlib.axes._subplots.AxesSubplot at 0x23deabd7908>"
      ]
     },
     "execution_count": 83,
     "metadata": {},
     "output_type": "execute_result"
    },
    {
     "data": {
      "image/png": "[encoded data removed]",
      "text/plain": [
       "<Figure size 432x288 with 1 Axes>"
      ]
     },
     "metadata": {},
     "output_type": "display_data"
    }
   ],
   "source": [
    "plot_df.plot(kind='area')"
   ]
  },
  {
   "cell_type": "markdown",
   "metadata": {},
   "source": [
    ">绘制散点图。kind='scatter'为散点图，因此需要传入两个列属性名作为参数。"
   ]
  },
  {
   "cell_type": "code",
   "execution_count": 84,
   "metadata": {},
   "outputs": [
    {
     "data": {
      "text/plain": [
       "<matplotlib.axes._subplots.AxesSubplot at 0x23debd9f4e0>"
      ]
     },
     "execution_count": 84,
     "metadata": {},
     "output_type": "execute_result"
    },
    {
     "data": {
      "image/png": "[encoded data removed]",
      "text/plain": [
       "<Figure size 432x288 with 1 Axes>"
      ]
     },
     "metadata": {},
     "output_type": "display_data"
    }
   ],
   "source": [
    "plot_df.plot('A','B',kind='scatter')"
   ]
  },
  {
   "cell_type": "markdown",
   "metadata": {},
   "source": [
    ">绘制饼图。kind='pie'绘制饼图。可以通过DataFrame的数据索引机制来更改绘图的数据。"
   ]
  },
  {
   "cell_type": "code",
   "execution_count": 85,
   "metadata": {},
   "outputs": [
    {
     "data": {
      "text/plain": [
       "<matplotlib.axes._subplots.AxesSubplot at 0x23debe074a8>"
      ]
     },
     "execution_count": 85,
     "metadata": {},
     "output_type": "execute_result"
    },
    {
     "data": {
      "image/png": "[encoded data removed]",
      "text/plain": [
       "<Figure size 432x288 with 1 Axes>"
      ]
     },
     "metadata": {},
     "output_type": "display_data"
    }
   ],
   "source": [
    "plot_df['A'].plot(kind='pie')"
   ]
  },
  {
   "cell_type": "markdown",
   "metadata": {},
   "source": [
    ">绘制二维直方图。使用正态分布的随机数产生横轴和纵轴的坐标值组合，不同颜色表示不同坐标组合出现的频数。"
   ]
  },
  {
   "cell_type": "code",
   "execution_count": 86,
   "metadata": {},
   "outputs": [
    {
     "data": {
      "text/html": [
       "<div>\n",
       "<style scoped>\n",
       "    .dataframe tbody tr th:only-of-type {\n",
       "        vertical-align: middle;\n",
       "    }\n",
       "\n",
       "    .dataframe tbody tr th {\n",
       "        vertical-align: top;\n",
       "    }\n",
       "\n",
       "    .dataframe thead th {\n",
       "        text-align: right;\n",
       "    }\n",
       "</style>\n",
       "<table border=\"1\" class=\"dataframe\">\n",
       "  <thead>\n",
       "    <tr style=\"text-align: right;\">\n",
       "      <th></th>\n",
       "      <th>a</th>\n",
       "      <th>b</th>\n",
       "    </tr>\n",
       "  </thead>\n",
       "  <tbody>\n",
       "    <tr>\n",
       "      <th>0</th>\n",
       "      <td>-1.727652</td>\n",
       "      <td>0.552847</td>\n",
       "    </tr>\n",
       "    <tr>\n",
       "      <th>1</th>\n",
       "      <td>1.419808</td>\n",
       "      <td>0.763811</td>\n",
       "    </tr>\n",
       "    <tr>\n",
       "      <th>2</th>\n",
       "      <td>-1.297450</td>\n",
       "      <td>0.532365</td>\n",
       "    </tr>\n",
       "    <tr>\n",
       "      <th>3</th>\n",
       "      <td>1.858130</td>\n",
       "      <td>-0.976147</td>\n",
       "    </tr>\n",
       "    <tr>\n",
       "      <th>4</th>\n",
       "      <td>-0.041866</td>\n",
       "      <td>-0.180664</td>\n",
       "    </tr>\n",
       "  </tbody>\n",
       "</table>\n",
       "</div>"
      ],
      "text/plain": [
       "          a         b\n",
       "0 -1.727652  0.552847\n",
       "1  1.419808  0.763811\n",
       "2 -1.297450  0.532365\n",
       "3  1.858130 -0.976147\n",
       "4 -0.041866 -0.180664"
      ]
     },
     "execution_count": 86,
     "metadata": {},
     "output_type": "execute_result"
    },
    {
     "data": {
      "image/png": "[encoded data removed]",
      "text/plain": [
       "<Figure size 432x288 with 2 Axes>"
      ]
     },
     "metadata": {},
     "output_type": "display_data"
    }
   ],
   "source": [
    "plot_df2 = pd.DataFrame(np.random.randn(1000, 2), columns=['a', 'b'])\n",
    "plot_df2.plot.hexbin(x='a', y='b', gridsize=25)\n",
    "plot_df2.head()"
   ]
  }
 ],
 "metadata": {
  "kernelspec": {
   "display_name": "Python 3",
   "language": "python",
   "name": "python3"
  },
  "language_info": {
   "codemirror_mode": {
    "name": "ipython",
    "version": 3
   },
   "file_extension": ".py",
   "mimetype": "text/x-python",
   "name": "python",
   "nbconvert_exporter": "python",
   "pygments_lexer": "ipython3",
   "version": "3.8.3"
  }
 },
 "nbformat": 4,
 "nbformat_minor": 4
}
